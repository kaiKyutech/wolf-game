{
  "cells": [
    {
      "cell_type": "markdown",
      "metadata": {},
      "source": [
        "# Geminiクライアントの簡易サンプル\n",
        "LangChainの `LLMClient` を用いて Gemini（Google Generative AI）へ問い合わせる最小例です。\n",
        "事前に環境変数 `GEMINI_API_KEY` をセットしておいてください。\n"
      ]
    },
    {
      "cell_type": "code",
      "execution_count": null,
      "metadata": {
        "tags": [
          "setup"
        ]
      },
      "outputs": [],
      "source": [
        "# プロジェクトルートを探索してsys.pathに追加\n",
        "from pathlib import Path\n",
        "import sys\n\n",
        "current = Path.cwd().resolve()\n",
        "project_root = None\n",
        "for candidate in [current, current.parent, current.parent.parent, current.parent.parent.parent]:\n",
        "    if (candidate / 'pyproject.toml').exists():\n",
        "        project_root = candidate\n",
        "        break\n\n",
        "if project_root is None:\n",
        "    raise RuntimeError('プロジェクトルートが見つかりません')\n\n",
        "if str(project_root) not in sys.path:\n",
        "    sys.path.insert(0, str(project_root))\n",
        "print(f'プロジェクトルート: {project_root}')\n"
      ]
    },
    {
      "cell_type": "code",
      "execution_count": null,
      "metadata": {},
      "outputs": [],
      "source": [
        "# Geminiクライアントの初期化\n",
        "import os\n",
        "from langchain_core.messages import SystemMessage, HumanMessage\n",
        "from src.api import LLMClient\n\n",
        "model = os.environ.get('GEMINI_MODEL', 'gemini-1.5-flash')\n",
        "client = LLMClient.from_gemini_settings(model=model, temperature=0.2)\n"
      ]
    },
    {
      "cell_type": "code",
      "execution_count": null,
      "metadata": {},
      "outputs": [],
      "source": [
        "# 簡単な質問を投げて応答を確認\n",
        "messages = [\n",
        "    SystemMessage(content='あなたは要約の達人です'),\n",
        "    HumanMessage(content='LangChainとGeminiを組み合わせる利点を3点教えて'),\n",
        "]\n",
        "reply = client.invoke(messages)\n",
        "reply.content\n"
      ]
    },
    {
      "cell_type": "code",
      "execution_count": null,
      "metadata": {},
      "outputs": [],
      "source": [
        "# 設定ファイルのエイリアスからクライアントを取得\n",
        "from src.config import create_client_from_model_name\n\n",
        "alias_client = create_client_from_model_name('gemini_flash')\n",
        "alias_reply = alias_client.invoke(messages)\n",
        "alias_reply.content\n"
      ]
    }
  ],
  "metadata": {
    "kernelspec": {
      "display_name": "Python 3",
      "language": "python",
      "name": "python3"
    },
    "language_info": {
      "name": "python",
      "version": "3.10"
    }
  },
  "nbformat": 4,
  "nbformat_minor": 5
}