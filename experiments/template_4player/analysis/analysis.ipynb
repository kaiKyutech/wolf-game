{
  "cells": [
    {
      "cell_type": "markdown",
      "metadata": {},
      "source": [
        "# Template 4-Player Analysis\n",
        "このノートブックは `logs/` 以下の JSONL を読み込み、\n",
        "簡易的な勝率を確認するためのテンプレートです。\n",
        "必要に応じてセルを追加して詳細分析へ拡張してください。\n"
      ]
    },
    {
      "cell_type": "code",
      "execution_count": 3,
      "id": "e9920f5c",
      "metadata": {},
      "outputs": [
        {
          "data": {
            "application/vnd.microsoft.datawrangler.viewer.v0+json": {
              "columns": [
                {
                  "name": "index",
                  "rawType": "int64",
                  "type": "integer"
                },
                {
                  "name": "timestamp",
                  "rawType": "object",
                  "type": "string"
                },
                {
                  "name": "run",
                  "rawType": "int64",
                  "type": "integer"
                },
                {
                  "name": "round",
                  "rawType": "int64",
                  "type": "integer"
                },
                {
                  "name": "phase",
                  "rawType": "object",
                  "type": "string"
                },
                {
                  "name": "votes",
                  "rawType": "object",
                  "type": "unknown"
                },
                {
                  "name": "tally",
                  "rawType": "object",
                  "type": "unknown"
                }
              ],
              "ref": "cdcda578-7fb5-48e8-b3ae-afbf9fab2730",
              "rows": [
                [
                  "0",
                  "2025-10-18T13:36:46.055462+00:00",
                  "1",
                  "3",
                  "vote_summary",
                  "[{'agent': 'A', 'vote': 'B'}, {'agent': 'B', 'vote': 'A'}, {'agent': 'C', 'vote': 'D'}, {'agent': 'D', 'vote': 'C'}]",
                  "{'B': 1, 'A': 1, 'D': 1, 'C': 1}"
                ],
                [
                  "1",
                  "2025-10-18T13:39:33.945118+00:00",
                  "2",
                  "3",
                  "vote_summary",
                  "[{'agent': 'A', 'vote': 'C'}, {'agent': 'B', 'vote': 'A'}, {'agent': 'C', 'vote': 'A'}, {'agent': 'D', 'vote': 'A'}]",
                  "{'C': 1, 'A': 3}"
                ]
              ],
              "shape": {
                "columns": 6,
                "rows": 2
              }
            },
            "text/html": [
              "<div>\n",
              "<style scoped>\n",
              "    .dataframe tbody tr th:only-of-type {\n",
              "        vertical-align: middle;\n",
              "    }\n",
              "\n",
              "    .dataframe tbody tr th {\n",
              "        vertical-align: top;\n",
              "    }\n",
              "\n",
              "    .dataframe thead th {\n",
              "        text-align: right;\n",
              "    }\n",
              "</style>\n",
              "<table border=\"1\" class=\"dataframe\">\n",
              "  <thead>\n",
              "    <tr style=\"text-align: right;\">\n",
              "      <th></th>\n",
              "      <th>timestamp</th>\n",
              "      <th>run</th>\n",
              "      <th>round</th>\n",
              "      <th>phase</th>\n",
              "      <th>votes</th>\n",
              "      <th>tally</th>\n",
              "    </tr>\n",
              "  </thead>\n",
              "  <tbody>\n",
              "    <tr>\n",
              "      <th>0</th>\n",
              "      <td>2025-10-18T13:36:46.055462+00:00</td>\n",
              "      <td>1</td>\n",
              "      <td>3</td>\n",
              "      <td>vote_summary</td>\n",
              "      <td>[{'agent': 'A', 'vote': 'B'}, {'agent': 'B', '...</td>\n",
              "      <td>{'B': 1, 'A': 1, 'D': 1, 'C': 1}</td>\n",
              "    </tr>\n",
              "    <tr>\n",
              "      <th>1</th>\n",
              "      <td>2025-10-18T13:39:33.945118+00:00</td>\n",
              "      <td>2</td>\n",
              "      <td>3</td>\n",
              "      <td>vote_summary</td>\n",
              "      <td>[{'agent': 'A', 'vote': 'C'}, {'agent': 'B', '...</td>\n",
              "      <td>{'C': 1, 'A': 3}</td>\n",
              "    </tr>\n",
              "  </tbody>\n",
              "</table>\n",
              "</div>"
            ],
            "text/plain": [
              "                          timestamp  run  round         phase  \\\n",
              "0  2025-10-18T13:36:46.055462+00:00    1      3  vote_summary   \n",
              "1  2025-10-18T13:39:33.945118+00:00    2      3  vote_summary   \n",
              "\n",
              "                                               votes  \\\n",
              "0  [{'agent': 'A', 'vote': 'B'}, {'agent': 'B', '...   \n",
              "1  [{'agent': 'A', 'vote': 'C'}, {'agent': 'B', '...   \n",
              "\n",
              "                              tally  \n",
              "0  {'B': 1, 'A': 1, 'D': 1, 'C': 1}  \n",
              "1                  {'C': 1, 'A': 3}  "
            ]
          },
          "execution_count": 3,
          "metadata": {},
          "output_type": "execute_result"
        }
      ],
      "source": [
        "from pathlib import Path\n",
        "import json\n",
        "import pandas as pd\n",
        "\n",
        "LOG_PATH = Path('../logs/logfile.jsonl')\n",
        "\n",
        "if not LOG_PATH.exists():\n",
        "    raise FileNotFoundError(f'ログが見つかりません: {LOG_PATH}')\n",
        "\n",
        "records = []\n",
        "with LOG_PATH.open('r', encoding='utf-8') as fh:\n",
        "    for line in fh:\n",
        "        line = line.strip()\n",
        "        if not line:\n",
        "            continue\n",
        "        records.append(json.loads(line))\n",
        "\n",
        "runs = pd.DataFrame([r for r in records if r.get('phase') == 'vote_summary'])\n",
        "if runs.empty:\n",
        "    raise ValueError('vote_summary が含まれるログがありません。')\n",
        "runs['run'] = runs['run'].astype(int)\n",
        "runs = runs.sort_values('run').reset_index(drop=True)\n",
        "runs\n"
      ]
    },
    {
      "cell_type": "code",
      "execution_count": 4,
      "metadata": {},
      "outputs": [
        {
          "data": {
            "application/vnd.microsoft.datawrangler.viewer.v0+json": {
              "columns": [
                {
                  "name": "eliminated",
                  "rawType": "object",
                  "type": "string"
                },
                {
                  "name": "count",
                  "rawType": "int64",
                  "type": "integer"
                },
                {
                  "name": "rate",
                  "rawType": "float64",
                  "type": "float"
                }
              ],
              "ref": "605a0b11-e1ac-4813-adb0-38a5b8ea73f3",
              "rows": [
                [
                  "tie",
                  "1",
                  "0.5"
                ],
                [
                  "A",
                  "1",
                  "0.5"
                ]
              ],
              "shape": {
                "columns": 2,
                "rows": 2
              }
            },
            "text/html": [
              "<div>\n",
              "<style scoped>\n",
              "    .dataframe tbody tr th:only-of-type {\n",
              "        vertical-align: middle;\n",
              "    }\n",
              "\n",
              "    .dataframe tbody tr th {\n",
              "        vertical-align: top;\n",
              "    }\n",
              "\n",
              "    .dataframe thead th {\n",
              "        text-align: right;\n",
              "    }\n",
              "</style>\n",
              "<table border=\"1\" class=\"dataframe\">\n",
              "  <thead>\n",
              "    <tr style=\"text-align: right;\">\n",
              "      <th></th>\n",
              "      <th>count</th>\n",
              "      <th>rate</th>\n",
              "    </tr>\n",
              "    <tr>\n",
              "      <th>eliminated</th>\n",
              "      <th></th>\n",
              "      <th></th>\n",
              "    </tr>\n",
              "  </thead>\n",
              "  <tbody>\n",
              "    <tr>\n",
              "      <th>tie</th>\n",
              "      <td>1</td>\n",
              "      <td>0.5</td>\n",
              "    </tr>\n",
              "    <tr>\n",
              "      <th>A</th>\n",
              "      <td>1</td>\n",
              "      <td>0.5</td>\n",
              "    </tr>\n",
              "  </tbody>\n",
              "</table>\n",
              "</div>"
            ],
            "text/plain": [
              "            count  rate\n",
              "eliminated             \n",
              "tie             1   0.5\n",
              "A               1   0.5"
            ]
          },
          "metadata": {},
          "output_type": "display_data"
        }
      ],
      "source": [
        "def winner_from_summary(row):\n",
        "    tally = row['tally']\n",
        "    if not tally:\n",
        "        return 'no_vote'\n",
        "    max_votes = max(tally.values())\n",
        "    top = [player for player, count in tally.items() if count == max_votes]\n",
        "    if len(top) == 1:\n",
        "        return top[0]\n",
        "    return 'tie'\n",
        "\n",
        "runs['eliminated'] = runs.apply(winner_from_summary, axis=1)\n",
        "elimination_counts = runs['eliminated'].value_counts()\n",
        "total_runs = len(runs)\n",
        "display(pd.DataFrame({'count': elimination_counts, 'rate': elimination_counts / total_runs}))\n"
      ]
    },
    {
      "cell_type": "code",
      "execution_count": null,
      "id": "f8471c93",
      "metadata": {},
      "outputs": [],
      "source": []
    }
  ],
  "metadata": {
    "kernelspec": {
      "display_name": "Python 3",
      "language": "python",
      "name": "python3"
    },
    "language_info": {
      "name": "python",
      "version": "3.x"
    }
  },
  "nbformat": 4,
  "nbformat_minor": 5
}
